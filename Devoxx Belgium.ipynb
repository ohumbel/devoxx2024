{
    "cells": [
        {
            "cell_type": "markdown",
            "id": "a8c7e339-944e-4bbe-aa7f-d3bc357fab63",
            "metadata": {
            },
            "source": "# My DevoxxBE 2024 experience"
        },
        {
            "cell_type": "markdown",
            "id": "c0b6bc56-2772-4435-b11e-499d0d8769e4",
            "metadata": {
            },
            "source": "## Enhancing Productivity and Insight: A Tour of JDK Tools Progress Beyond Java 17 (Ana-Maria Mihaklceanu)\n\n[JDK 23 Tools Tour](https://de.slideshare.net/slideshow/enhancing-productivity-and-insight-a-tour-of-jdk-tools-progress-beyond-java-17-d836/272225158)"
        },
        {
            "cell_type": "markdown",
            "id": "1c19b2b8-f11d-4f86-8ae3-68d470c98a11",
            "metadata": {
            },
            "source": "## Hands on JobRunr\n\n`git clone git@github.com:rdehuyss/devoxx-demo-rpi.git`\n\n[Java library for Raspberry Pi](http://www.pi4j.com/)\n"
        },
        {
            "cell_type": "markdown",
            "id": "0432348e-83a6-4048-a4d0-ad36fdd8264e",
            "metadata": {
            },
            "source": "## Found by accident\n\n - [Cay Horstman presentation \"small java\"](https://horstmann.com/presentations/2024/smalljava/)\n - [JBang](https://www.jbang.dev/)"
        }
    ],
    "metadata": {
        "kernel_info": {
            "name": "JTaccuino",
            "version": "0.1"
        },
        "language_info": {
            "name": "Java",
            "version": "23"
        }
    },
    "nbformat": 4,
    "nbformat_minor": 5
}