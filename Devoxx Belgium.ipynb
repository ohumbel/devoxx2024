{
    "cells": [
        {
            "cell_type": "markdown",
            "id": "a8c7e339-944e-4bbe-aa7f-d3bc357fab63",
            "metadata": {
            },
            "source": "# My DevoxxBE2024 experience"
        },
        {
            "cell_type": "markdown",
            "id": "c0b6bc56-2772-4435-b11e-499d0d8769e4",
            "metadata": {
            },
            "source": "## Enhancing Productivity and Insight: A Tour of JDK Tools Progress Beyond Java 17 (Ana-Maria Mihaklceanu)\n\n[JDK 23 Tools Tour](https://de.slideshare.net/slideshow/enhancing-productivity-and-insight-a-tour-of-jdk-tools-progress-beyond-java-17-d836/272225158)"
        }
    ],
    "metadata": {
        "kernel_info": {
            "version": "0.1",
            "name": "JTaccuino"
        },
        "language_info": {
            "version": "23",
            "name": "Java"
        }
    },
    "nbformat": 4,
    "nbformat_minor": 5
}