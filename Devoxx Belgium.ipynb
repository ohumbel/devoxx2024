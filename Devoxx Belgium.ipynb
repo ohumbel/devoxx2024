{
    "cells": [
        {
            "cell_type": "markdown",
            "id": "a8c7e339-944e-4bbe-aa7f-d3bc357fab63",
            "metadata": {
            },
            "source": "# My DevoxxBE2024 experience"
        }
    ],
    "metadata": {
        "language_info": {
            "name": "Java",
            "version": "23"
        },
        "kernel_info": {
            "name": "JTaccuino",
            "version": "0.1"
        }
    },
    "nbformat": 4,
    "nbformat_minor": 5
}