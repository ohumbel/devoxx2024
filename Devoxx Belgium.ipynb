{
    "cells": [
        {
            "cell_type": "markdown",
            "id": "a8c7e339-944e-4bbe-aa7f-d3bc357fab63",
            "metadata": {
            },
            "source": "# My DevoxxBE 2024 Experience\n\n - [Devoxx 2024 BE YouTube playlist](https://www.youtube.com/playlist?list=PLRsbF2sD7JVrNB1mKqklpc23hsKtvMAXm)"
        },
        {
            "cell_type": "markdown",
            "id": "27a1842e-5be4-4ce6-aea9-af8783149e24",
            "metadata": {
            },
            "source": "## A better Jupyter Experience for Java Developers - JTaccuino unveiled (Sven Reimers, Jose Pereda)\n\nMy notes are written with JTaccuino.\n\nTo try it out:\n - `git clone git@github.com:jtaccuino/jtaccuino.git`\n - `cd app`\n - `../gradlew run`\n\n... or download the [prebuilt binary](https://github.com/jtaccuino/jtaccuino/releases/tag/1.0.0)\n\n - [Video](https://www.youtube.com/watch?v=SMD5g0Fqn34&list=PLRsbF2sD7JVrNB1mKqklpc23hsKtvMAXm&index=50&pp=iAQB)\n - [Examples](https://github.com/jtaccuino/jtaccuino/tree/main/examples)"
        },
        {
            "cell_type": "markdown",
            "id": "c0b6bc56-2772-4435-b11e-499d0d8769e4",
            "metadata": {
            },
            "source": "## Enhancing Productivity and Insight: A Tour of JDK Tools Progress Beyond Java 17 (Ana-Maria Mihalceanu)\n\n - [Slides](https://de.slideshare.net/slideshow/enhancing-productivity-and-insight-a-tour-of-jdk-tools-progress-beyond-java-17-d836/272225158)\n - [Video](https://www.youtube.com/watch?v=G-dkJe6s9us&list=PLRsbF2sD7JVrNB1mKqklpc23hsKtvMAXm&index=86&pp=iAQB)"
        },
        {
            "cell_type": "markdown",
            "id": "1c19b2b8-f11d-4f86-8ae3-68d470c98a11",
            "metadata": {
            },
            "source": "## Hands on JobRunr\n\nJobRunr looks like a nice framework for handling workloads.\n\nThe excercises can be cloned from the following git repository: `git clone git@github.com:rdehuyss/devoxx-demo-rpi.git`\n\n - [JobRunr Homepage](https://www.jobrunr.io) \"The ultimate library for background processing in Java.\"\n - [Java library for Raspberry Pi](http://www.pi4j.com/)\n"
        },
        {
            "cell_type": "markdown",
            "id": "b1a0c1b6-d3f9-425b-9a2d-9e38805a2e11",
            "metadata": {
            },
            "source": "## The Joy of Testing (Victor Renta)\n\nA must see - very entertaining!\n\n - [Video](https://www.youtube.com/watch?v=UrSH4ch3Gxc&list=PLRsbF2sD7JVrNB1mKqklpc23hsKtvMAXm&index=51&pp=iAQB)\n - [Homepage of Victor](victorrentea.ro)\n"
        },
        {
            "cell_type": "markdown",
            "id": "3a33770d-5701-4387-a926-b6e44788db25",
            "metadata": {
            },
            "source": "## Memory API: Patterns, Use Cases, and Performance (Rémi Forax, José Paumard)\n\nProblems with `ByteBuffer`:\n - can operate on closed files\n - need to handle indices\n - slow\n - only 32 bit\n\nMemeorySegmentAPI:\n - `MemorySegment`\n - `Arena.ofConfined()` // bound to our thread - use only this!\n - `ValueLayout` and other `MemoryLayout`\n\nString API is C oriented (`\\0` terminated)\n\nFragmentation\n\nJExtract `*.h` -> `.java` ATTN platform dependent!\n\n`VarHandle` easy access on memory layout\n\nin the future: access via records\n\n - [Panama](https://openjdkorg/projets/panama)\n - [Slides](https://speakerdeck.com/josepaumard/memory-api-patterns-use-cases-and-performance)\n - [Video](https://www.youtube.com/watch?v=46b4SALICyA&list=PLRsbF2sD7JVrNB1mKqklpc23hsKtvMAXm&index=43&pp=iAQB)"
        },
        {
            "cell_type": "markdown",
            "id": "0d2f7209-cada-4746-8c61-7630f367f812",
            "metadata": {
            },
            "source": "## Unlocking Seamless Collaboration: Design-First APIs for Components (Lucien Immink)\n\nThis talk was about GUI components and their API.\n\n - [Video](https://www.youtube.com/watch?v=R8lqWZrKS-k&list=PLRsbF2sD7JVrNB1mKqklpc23hsKtvMAXm&index=48&pp=iAQB)"
        },
        {
            "cell_type": "markdown",
            "id": "33b97d84-f7a9-41e1-b15a-c40f29765e5f",
            "metadata": {
            },
            "source": "## Monitoring Java Application Security with JDK tools and JFR Events (Ana-Maria Mihalceanu)\n\nSome (for me) unknown features of JFR, even on the command line.\n\n - [Slides](https://de.slideshare.net/slideshow/monitoring-java-application-security-with-jdk-tools-and-jfr-events-43d5/272144385)\n - [Video](https://www.youtube.com/watch?v=F38kMVsWB_k&list=PLRsbF2sD7JVrNB1mKqklpc23hsKtvMAXm&index=47&pp=iAQB)"
        },
        {
            "cell_type": "markdown",
            "id": "32087420-509f-4ce7-9db1-7e18853e743e",
            "metadata": {
            },
            "source": "## The Java Community is Life-Changing! (BOF with Tom Cools, Sharat Chander\n\nThe message was: Participate, no matter where or how small your contribution is.\n"
        },
        {
            "cell_type": "markdown",
            "id": "00bb5ac4-3664-4117-8c85-ba35cd7deb6e",
            "metadata": {
            },
            "source": "## Supercharge your Java Applications with Python! (Fabio Niephaus, Thomas Wuerthinger)\n\nThis was a real eye opener for me: It is now possible to embed _modern_ Python (and Python frameworks) into any JVM >= 21.\nSince Jython is not maintained very actively, this could also be a future replacement for our script embedding in Bison Process. See [my minimal requirements](https://github.com/ohumbel/graalpy-embedding/issues) for such a transistion.\n\n - [Video](https://www.youtube.com/watch?v=F8GoDqTtSOE&pp=ygUyc3VwZXJjaGFyY2hpbmcgeW91ciBqYXZhIGFwcGxpY2F0aW9ucyB3aXRoIHB5dGhvbiA%3D)\n - [GraalPy](https://www.graalvm.org/python/)"
        },
        {
            "cell_type": "markdown",
            "id": "680aa0b7-b37f-4a6b-84be-98eff5a4a7d2",
            "metadata": {
            },
            "source": "## Structured Concurrency: Managing the Hierarchical Cancelation and Error Handling (Ryan Knight, James Ward)\n\nThe easyracer challenge defines some scenarios for structured concurrency. The solutions are presented mainly using the JDK 23 preview feature, but also in comparison with other programming languages.\n\n - [easyracer from the talk](github.com/retroryan/easyraer)\n - [easyracer challenge](github.com/jamesward/easyraer)\n - [Video](https://www.youtube.com/watch?v=eeToaxroPIE&list=PLRsbF2sD7JVrNB1mKqklpc23hsKtvMAXm&index=17&pp=iAQB)"
        },
        {
            "cell_type": "markdown",
            "id": "b2d0480a-1701-47dd-9047-0c7036e6cee3",
            "metadata": {
            },
            "source": "## Hunting with Stream Gatherers (Piotr Przybyl)\n\nA nice explanation of Stream Gatherers using \"ene, mene, me, ...\"\n\n - [Slides](https://bit.ly/HWSG-DVXBE)\n - [Video](https://www.youtube.com/watch?v=rvW8tu1n5x4&list=PLRsbF2sD7JVrNB1mKqklpc23hsKtvMAXm&index=25&pp=iAQB)\n"
        },
        {
            "cell_type": "markdown",
            "id": "faf0f12e-b1f7-4e2f-b36c-c4b9703a2fb3",
            "metadata": {
            },
            "source": "## Valhalla - Where Are We? (Brian Goetz)\n\n\n\t"
        },
        {
            "cell_type": "markdown",
            "id": "f5ffc08b-7df4-48ef-b02f-17878b697027",
            "metadata": {
            },
            "source": "## Tip and Tail for library maintainers (Brian Goetz, Georges Saab)\n\n[JEP-14](https://openjdk.org/jeps/14)"
        },
        {
            "cell_type": "markdown",
            "id": "0a300460-1120-4063-a0a1-09f8751a5b19",
            "metadata": {
            },
            "source": "## Native Image Layers, GraalOS, and More - Discuss the Future of GraalVM (Alina Yurenko, Fabio Niephaus, Thomas Wuerthinger, Alfonso Peterssen)\n\n[Demo projects on github](https://github.com/graalvm/graal-languages-demos)"
        },
        {
            "cell_type": "markdown",
            "id": "df2f067c-e637-4cdc-8a97-15b51aac1b82",
            "metadata": {
            },
            "source": "## Continuations: The magic behind virtual threads in Java (Balkrishna Rawoo)\n\n[Code on GitHub](https://github.com/balkrishnarawool/continuations)"
        },
        {
            "cell_type": "markdown",
            "id": "79e06525-73ad-4d00-9d41-3dd542dbacd1",
            "metadata": {
            },
            "source": "## Java Language Futures (Gavin Bierman)\n\n"
        },
        {
            "cell_type": "markdown",
            "id": "4db35ba2-8088-4db3-afbc-65f19fdd0530",
            "metadata": {
            },
            "source": "## The next phase of Project Loom and Virtual Threads (Alan Bateman)\n\nfix pinning with synchronized\nserviceability and \nbetter api\n\n\n\nmistakes made by developers\nreplace platform threads with platform threads instead of the *tasks*\npooling virtual threads\nheavy use of (libraries with) ThreadLocals \n\n\nJEP-491 pinning OK\n\n\n\nStack Traces OK\nThread dump ; 2 stack traces (carrier and mounted virtual)\nFull thread dump lists all threads, e.g. in json ormat\nJMX Bean for virtual thread scheduler\nheap dumps include umountet vt\n\n\n\n\n[JEP-444 Virtual Threads](https://openjdk.org/jeps/444)\n[JEP-480 Structured Concurrency (3rd Preview)](https://openjdk.org/jeps/480)\n[JEP-487 Scoped Values (4th Preview)](https://openjdk.org/jeps/487)\n[Early Access builds](https://jdk.java.net/loom)\n[Mailing list](https://mail.openjdk.org/mailman/listinfo/loom-dev)\n"
        },
        {
            "cell_type": "markdown",
            "id": "595222f5-5d91-429d-a53e-6a2ced34689e",
            "metadata": {
            },
            "source": "## Found by accident\n\n - [Cay Horstman presentation \"small java\"](https://horstmann.com/presentations/2024/smalljava/)\n - [JBang](https://www.jbang.dev/)\n - [Google Notebook LM](https://notebooklm.google.com/) can converet a video into a podcast\n\nReplacement for finalizer:\n```\ncleaner = Cleaner.create();\ncleaner.register(() -> callbackOnGarbageCollection);\n```"
        }
    ],
    "metadata": {
        "language_info": {
            "version": "23",
            "name": "Java"
        },
        "kernel_info": {
            "version": "0.1",
            "name": "JTaccuino"
        }
    },
    "nbformat": 4,
    "nbformat_minor": 5
}