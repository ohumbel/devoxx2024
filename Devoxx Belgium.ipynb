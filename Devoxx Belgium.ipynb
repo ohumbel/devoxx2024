{
    "cells": [
        {
            "cell_type": "markdown",
            "id": "a8c7e339-944e-4bbe-aa7f-d3bc357fab63",
            "metadata": {
            },
            "source": "# My DevoxxBE 2024 experience"
        },
        {
            "cell_type": "markdown",
            "id": "c0b6bc56-2772-4435-b11e-499d0d8769e4",
            "metadata": {
            },
            "source": "## Enhancing Productivity and Insight: A Tour of JDK Tools Progress Beyond Java 17 (Ana-Maria Mihaklceanu)\n\n[JDK 23 Tools Tour](https://de.slideshare.net/slideshow/enhancing-productivity-and-insight-a-tour-of-jdk-tools-progress-beyond-java-17-d836/272225158)"
        },
        {
            "cell_type": "markdown",
            "id": "1c19b2b8-f11d-4f86-8ae3-68d470c98a11",
            "metadata": {
            },
            "source": "## Hands on JobRunr\n\n`git clone git@github.com:rdehuyss/devoxx-demo-rpi.git`\n\n[Java library for Raspberry Pi](http://www.pi4j.com/)\n"
        },
        {
            "cell_type": "markdown",
            "id": "3a33770d-5701-4387-a926-b6e44788db25",
            "metadata": {
            },
            "source": "## Memory API: Patterns, Use Cases, and Performance (Rémi Forax, José Paumard)\n\n[Panama](https://openjdkorg/projets/panama)\n\nProblems with ByteBuffer:\n - can operate on closed files\n - need to handle indices\n - slow\n - only 32 bit\n\nEnters MemeorySegmentAPI\n`MemorySegment`\n`Arena.ofConfined() // bound to our thread` - use only this!\n`ValueLayout` and other `MemoryLayout`\nString API is C oriented (`\\0` terminated)\n\nFragmentation\n\nJExtract *.h -> .java ATTN platform dependent!\n\n`VarHandle` easy access on memory layout\n\nin the future: access via records\n\n[Slides](https://speakerdeck.com/josepaumard/memory-api-patterns-use-cases-and-performance)\n"
        },
        {
            "cell_type": "markdown",
            "id": "595222f5-5d91-429d-a53e-6a2ced34689e",
            "metadata": {
            },
            "source": "## Found by accident\n\n - [Cay Horstman presentation \"small java\"](https://horstmann.com/presentations/2024/smalljava/)\n - [JBang](https://www.jbang.dev/)\n\n\ncleaner = Cleaner.create();\ncleaner.register(() -> callbackOnGarbageCollection);"
        }
    ],
    "metadata": {
        "kernel_info": {
            "version": "0.1",
            "name": "JTaccuino"
        },
        "language_info": {
            "version": "23",
            "name": "Java"
        }
    },
    "nbformat": 4,
    "nbformat_minor": 5
}