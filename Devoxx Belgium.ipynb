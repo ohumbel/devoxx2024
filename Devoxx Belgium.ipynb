{
    "cells": [
        {
            "cell_type": "markdown",
            "id": "a8c7e339-944e-4bbe-aa7f-d3bc357fab63",
            "metadata": {
            },
            "source": "# My DevoxxBE 2024 experience"
        },
        {
            "cell_type": "markdown",
            "id": "c0b6bc56-2772-4435-b11e-499d0d8769e4",
            "metadata": {
            },
            "source": "## Enhancing Productivity and Insight: A Tour of JDK Tools Progress Beyond Java 17 (Ana-Maria Mihaklceanu)\n\n[JDK 23 Tools Tour](https://de.slideshare.net/slideshow/enhancing-productivity-and-insight-a-tour-of-jdk-tools-progress-beyond-java-17-d836/272225158)"
        },
        {
            "cell_type": "markdown",
            "id": "1c19b2b8-f11d-4f86-8ae3-68d470c98a11",
            "metadata": {
            },
            "source": "## Hands on JobRunr\n\n`git clone git@github.com:rdehuyss/devoxx-demo-rpi.git`\n\n[Java library for Raspberry Pi](http://www.pi4j.com/)\n"
        },
        {
            "cell_type": "markdown",
            "id": "3a33770d-5701-4387-a926-b6e44788db25",
            "metadata": {
            },
            "source": "## Memory API: Patterns, Use Cases, and Performance (Rémi Forax, José Paumard)\n\n[Panama](https://openjdkorg/projets/panama)\n\nProblems with ByteBuffer:\n - can operate on closed files\n - need to handle indices\n - slow\n - only 32 bit\n\nEnters MemeorySegmentAPI\n`MemorySegment`\n`Arena.ofConfined() // bound to our thread` - use only this!\n`ValueLayout` and other `MemoryLayout`\nString API is C oriented (`\\0` terminated)\n\nFragmentation\n\nJExtract *.h -> .java ATTN platform dependent!\n\n`VarHandle` easy access on memory layout\n\nin the future: access via records\n\n[Slides](https://speakerdeck.com/josepaumard/memory-api-patterns-use-cases-and-performance)\n"
        },
        {
            "cell_type": "markdown",
            "id": "b1a0c1b6-d3f9-425b-9a2d-9e38805a2e11",
            "metadata": {
            },
            "source": "## The Joy of Testing (Victor Renta)\n\npitest (Mutation testing, but only for small important parts\n[Homepage of Victor](victorrentea.ro)\n\nJUnit Extensions\n\n"
        },
        {
            "cell_type": "markdown",
            "id": "27a1842e-5be4-4ce6-aea9-af8783149e24",
            "metadata": {
            },
            "source": "## JTaccuino (Sven Reimers, Jose Pereda)\n\nThis notebool is written with it"
        },
        {
            "cell_type": "markdown",
            "id": "0d2f7209-cada-4746-8c61-7630f367f812",
            "metadata": {
            },
            "source": "## Unlocking Seamless Collaboration: Design-First APIs for Components (Lucien Immink)\n"
        },
        {
            "cell_type": "markdown",
            "id": "33b97d84-f7a9-41e1-b15a-c40f29765e5f",
            "metadata": {
            },
            "source": "## Monitoring Java Application Security with JDK tools and JFR Events (Ana-Maria Mihaceanu)\n\n"
        },
        {
            "cell_type": "markdown",
            "id": "32087420-509f-4ce7-9db1-7e18853e743e",
            "metadata": {
            },
            "source": "## The Java Community is Life-Changing! (BOF with Tom Cools, Sharat Chander\n\n"
        },
        {
            "cell_type": "markdown",
            "id": "00bb5ac4-3664-4117-8c85-ba35cd7deb6e",
            "metadata": {
            },
            "source": "## Supercharge your Java Applications with Python! (Fabio Niephaus, Thomas Wuerthinger)\n\n\n[GraalPy](https://www.graalvm.org/python/)"
        },
        {
            "cell_type": "markdown",
            "id": "680aa0b7-b37f-4a6b-84be-98eff5a4a7d2",
            "metadata": {
            },
            "source": "## Structured Concurrency: Managing the Hierarchical Cancelation and Error Handling (Ryan Knight, James Ward)\n\n1\n2"
        },
        {
            "cell_type": "markdown",
            "id": "b2d0480a-1701-47dd-9047-0c7036e6cee3",
            "metadata": {
            },
            "source": "## Hunting with Stream Gatherers (Piotr Przybyl)\n\n1\n2\n"
        },
        {
            "cell_type": "markdown",
            "id": "faf0f12e-b1f7-4e2f-b36c-c4b9703a2fb3",
            "metadata": {
            },
            "source": "## Valhalla - Where Are We? (Brian Goetz)\n\n1\n2\t"
        },
        {
            "cell_type": "markdown",
            "id": "595222f5-5d91-429d-a53e-6a2ced34689e",
            "metadata": {
            },
            "source": "## Found by accident\n\n - [Cay Horstman presentation \"small java\"](https://horstmann.com/presentations/2024/smalljava/)\n - [JBang](https://www.jbang.dev/)\n - [Google Notebook LM](https://notebooklm.google.com/) can converet a video into a podcast\n\nReplacement for finalizer:\n```\ncleaner = Cleaner.create();\ncleaner.register(() -> callbackOnGarbageCollection);\n```"
        }
    ],
    "metadata": {
        "language_info": {
            "version": "23",
            "name": "Java"
        },
        "kernel_info": {
            "version": "0.1",
            "name": "JTaccuino"
        }
    },
    "nbformat": 4,
    "nbformat_minor": 5
}